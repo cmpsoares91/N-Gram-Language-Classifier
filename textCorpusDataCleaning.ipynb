{
 "metadata": {
  "name": "",
  "signature": "sha256:ee1296e7e06022e0e52299e06ce14c89b97064dbdee7b88bd94581ee835876df"
 },
 "nbformat": 3,
 "nbformat_minor": 0,
 "worksheets": [
  {
   "cells": [
    {
     "cell_type": "code",
     "collapsed": false,
     "input": [
      "import os\n",
      "import re\n",
      "\n",
      "dirname = \"./data\"\n",
      "ext = \".txt\"\n",
      "normExt = \".norm\"\n",
      "\n",
      "n = 3\n",
      "wordBegin = ''\n",
      "wordEnd = ''\n",
      "\n",
      "for file in os.listdir(dirname):\n",
      "    if file.endswith(ext):\n",
      "        if os.path.splitext(file)[0] != \"sources\":\n",
      "            tempFile = open(dirname+'/'+os.path.splitext(file)[0]+os.path.splitext(file)[1], 'r', encoding=\"utf8\")\n",
      "            # print(os.path.splitext(file))\n",
      "            temp = re.sub(\"\\d+\", \" \", tempFile.read().lower())\n",
      "            # print(temp)\n",
      "            # print(re.split('\\W+', temp, flags=re.UNICODE))\n",
      "            tempFile.close()\n",
      "            tempFile = open(dirname+'/'+os.path.splitext(file)[0]+normExt, 'w', encoding=\"utf8\")\n",
      "            for word in re.split('\\W+', temp, flags=re.UNICODE):\n",
      "                if word != '':\n",
      "                    for i in range(n-1):\n",
      "                        wordBegin += \"<\"\n",
      "                        wordEnd += \">\"\n",
      "                    tempFile.write(wordBegin + word + wordEnd + \"\\n\")\n",
      "                    wordBegin = wordEnd = ''\n",
      "            tempFile.close()"
     ],
     "language": "python",
     "metadata": {},
     "outputs": [],
     "prompt_number": 12
    },
    {
     "cell_type": "code",
     "collapsed": false,
     "input": [
      "s = \"This must not b3 delet3d, but the number at the end yes 134411 $4,000\"\n",
      "s = re.sub(\"\\d+\", \" \", s)\n",
      "print(s)"
     ],
     "language": "python",
     "metadata": {},
     "outputs": [
      {
       "output_type": "stream",
       "stream": "stdout",
       "text": [
        "This must not b  delet d, but the number at the end yes   $ , \n"
       ]
      }
     ],
     "prompt_number": 11
    },
    {
     "cell_type": "code",
     "collapsed": false,
     "input": [],
     "language": "python",
     "metadata": {},
     "outputs": [],
     "prompt_number": 11
    },
    {
     "cell_type": "code",
     "collapsed": false,
     "input": [],
     "language": "python",
     "metadata": {},
     "outputs": []
    }
   ],
   "metadata": {}
  }
 ]
}