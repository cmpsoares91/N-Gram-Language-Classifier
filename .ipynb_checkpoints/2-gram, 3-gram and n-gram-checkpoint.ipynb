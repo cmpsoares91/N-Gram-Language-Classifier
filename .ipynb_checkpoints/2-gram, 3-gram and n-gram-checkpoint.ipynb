{
 "metadata": {
  "name": "",
  "signature": "sha256:abafa35ddfe90e36ad221ff2bcffb1f72103df37512044166d08892b33bbeb4c"
 },
 "nbformat": 3,
 "nbformat_minor": 0,
 "worksheets": [
  {
   "cells": [
    {
     "cell_type": "code",
     "collapsed": false,
     "input": [
      "normText = \"\u00abol\u00e1\u00bb\\n\u00abtudo\u00bb\\n\u00abbem\u00bb\\n\"\n",
      "print(normText)"
     ],
     "language": "python",
     "metadata": {},
     "outputs": [
      {
       "output_type": "stream",
       "stream": "stdout",
       "text": [
        "\u00abol\u00e1\u00bb\n",
        "\u00abtudo\u00bb\n",
        "\u00abbem\u00bb\n",
        "\n"
       ]
      }
     ],
     "prompt_number": 9
    },
    {
     "cell_type": "code",
     "collapsed": false,
     "input": [
      "print(\"2-grams:\")\n",
      "for i in range(len(normText)-1):\n",
      "    if (normText[i] != \"\\n\") & (normText[i+1] != \"\\n\") :\n",
      "        print(normText[i] + normText[i+1])"
     ],
     "language": "python",
     "metadata": {},
     "outputs": [
      {
       "output_type": "stream",
       "stream": "stdout",
       "text": [
        "2-grams:\n",
        "\u00abo\n",
        "ol\n",
        "l\u00e1\n",
        "\u00e1\u00bb\n",
        "\u00abt\n",
        "tu\n",
        "ud\n",
        "do\n",
        "o\u00bb\n",
        "\u00abb\n",
        "be\n",
        "em\n",
        "m\u00bb\n"
       ]
      }
     ],
     "prompt_number": 18
    },
    {
     "cell_type": "code",
     "collapsed": false,
     "input": [
      "print(\"3-grams:\")\n",
      "for i in range(len(normText)-2):\n",
      "    if (normText[i] != \"\\n\") & (normText[i+1] != \"\\n\") & (normText[i+2] != \"\\n\") :\n",
      "        print(normText[i] + normText[i+1] + normText[i+2])"
     ],
     "language": "python",
     "metadata": {},
     "outputs": [
      {
       "output_type": "stream",
       "stream": "stdout",
       "text": [
        "3-grams:\n",
        "\u00abol\n",
        "ol\u00e1\n",
        "l\u00e1\u00bb\n",
        "\u00abtu\n",
        "tud\n",
        "udo\n",
        "do\u00bb\n",
        "\u00abbe\n",
        "bem\n",
        "em\u00bb\n"
       ]
      }
     ],
     "prompt_number": 17
    },
    {
     "cell_type": "code",
     "collapsed": false,
     "input": [
      "print(\"N-grams (works till n = 5):\")\n",
      "n = 5\n",
      "gram = \"\"\n",
      "for i in range(0, len(normText)+1-n):\n",
      "    for j in range(0, n):\n",
      "        gram += normText[i+j]\n",
      "    if \"\\n\" not in gram:\n",
      "        print(gram)\n",
      "    gram = \"\""
     ],
     "language": "python",
     "metadata": {},
     "outputs": [
      {
       "output_type": "stream",
       "stream": "stdout",
       "text": [
        "N-grams (works till n = 5):\n",
        "\u00abol\u00e1\u00bb\n",
        "\u00abtudo\n",
        "tudo\u00bb\n",
        "\u00abbem\u00bb\n"
       ]
      }
     ],
     "prompt_number": 70
    },
    {
     "cell_type": "code",
     "collapsed": false,
     "input": [
      "print(\"N-grams (generalized):\")\n",
      "n = 8\n",
      "gram = \"\"\n",
      "for i in range(len(normText)-n+1):\n",
      "    for j in range(n):\n",
      "        if (i+j) == len(normText):\n",
      "            break\n",
      "        if normText[i+j] == \"\\n\":\n",
      "            if j == 0 :\n",
      "                break\n",
      "            else:\n",
      "                i += 1\n",
      "                gram += normText[i+j]\n",
      "        else:\n",
      "            gram += normText[i+j]\n",
      "    if (\"\\n\" not in gram) & (gram != \"\") & (len(gram) == n):\n",
      "        print(gram)\n",
      "        # This is where I have to add the gram to the counter...\n",
      "    gram = \"\""
     ],
     "language": "python",
     "metadata": {},
     "outputs": [
      {
       "output_type": "stream",
       "stream": "stdout",
       "text": [
        "N-grams (generalized):\n",
        "\u00abol\u00e1\u00bb\u00abtu\n",
        "ol\u00e1\u00bb\u00abtud\n",
        "l\u00e1\u00bb\u00abtudo\n",
        "\u00e1\u00bb\u00abtudo\u00bb\n",
        "\u00bb\u00abtudo\u00bb\u00ab\n",
        "\u00abtudo\u00bb\u00abb\n",
        "tudo\u00bb\u00abbe\n",
        "udo\u00bb\u00abbem\n",
        "do\u00bb\u00abbem\u00bb\n"
       ]
      }
     ],
     "prompt_number": 138
    },
    {
     "cell_type": "code",
     "collapsed": false,
     "input": [
      "from collections import Counter\n",
      "from pandas import DataFrame\n",
      "print(\"N-grams counting function:\")\n",
      "def ngram (n, text):\n",
      "    gram = \"\"\n",
      "    gramArray = []\n",
      "    for i in range(len(text)-n):\n",
      "        for j in range(n):\n",
      "            if (i+j) == len(text):\n",
      "                break\n",
      "            if text[i+j] == \"\\n\":\n",
      "                if j == 0 :\n",
      "                    break\n",
      "                else:\n",
      "                    i += 1\n",
      "                    gram += text[i+j]\n",
      "            else:\n",
      "                gram += text[i+j]\n",
      "        if (\"\\n\" not in gram) & (gram != \"\") & (len(gram) == n):\n",
      "            # print(gram)\n",
      "            # This is where I have to add the gram to the counter...\n",
      "            gramArray.append(gram)\n",
      "        gram = \"\"\n",
      "    count = Counter(gramArray)\n",
      "    return sorted(count.items());\n",
      "\n",
      "num = 2\n",
      "tempGram = ngram (num, normText)\n",
      "df = DataFrame(tempGram)\n",
      "df.columns = [str(num) + '-gram', 'count']\n",
      "print(df)"
     ],
     "language": "python",
     "metadata": {},
     "outputs": [
      {
       "output_type": "stream",
       "stream": "stdout",
       "text": [
        "N-grams counting function:\n"
       ]
      },
      {
       "ename": "NameError",
       "evalue": "name 'normText' is not defined",
       "output_type": "pyerr",
       "traceback": [
        "\u001b[1;31m---------------------------------------------------------------------------\u001b[0m\n\u001b[1;31mNameError\u001b[0m                                 Traceback (most recent call last)",
        "\u001b[1;32m<ipython-input-2-639b48c6a73b>\u001b[0m in \u001b[0;36m<module>\u001b[1;34m()\u001b[0m\n\u001b[0;32m     26\u001b[0m \u001b[1;33m\u001b[0m\u001b[0m\n\u001b[0;32m     27\u001b[0m \u001b[0mnum\u001b[0m \u001b[1;33m=\u001b[0m \u001b[1;36m2\u001b[0m\u001b[1;33m\u001b[0m\u001b[0m\n\u001b[1;32m---> 28\u001b[1;33m \u001b[0mtempGram\u001b[0m \u001b[1;33m=\u001b[0m \u001b[0mngram\u001b[0m \u001b[1;33m(\u001b[0m\u001b[0mnum\u001b[0m\u001b[1;33m,\u001b[0m \u001b[0mnormText\u001b[0m\u001b[1;33m)\u001b[0m\u001b[1;33m\u001b[0m\u001b[0m\n\u001b[0m\u001b[0;32m     29\u001b[0m \u001b[0mdf\u001b[0m \u001b[1;33m=\u001b[0m \u001b[0mDataFrame\u001b[0m\u001b[1;33m(\u001b[0m\u001b[0mtempGram\u001b[0m\u001b[1;33m)\u001b[0m\u001b[1;33m\u001b[0m\u001b[0m\n\u001b[0;32m     30\u001b[0m \u001b[0mdf\u001b[0m\u001b[1;33m.\u001b[0m\u001b[0mcolumns\u001b[0m \u001b[1;33m=\u001b[0m \u001b[1;33m[\u001b[0m\u001b[0mstr\u001b[0m\u001b[1;33m(\u001b[0m\u001b[0mnum\u001b[0m\u001b[1;33m)\u001b[0m \u001b[1;33m+\u001b[0m \u001b[1;34m'-gram'\u001b[0m\u001b[1;33m,\u001b[0m \u001b[1;34m'count'\u001b[0m\u001b[1;33m]\u001b[0m\u001b[1;33m\u001b[0m\u001b[0m\n",
        "\u001b[1;31mNameError\u001b[0m: name 'normText' is not defined"
       ]
      }
     ],
     "prompt_number": 2
    },
    {
     "cell_type": "code",
     "collapsed": false,
     "input": [
      "import os\n",
      "\n",
      "dirname = \"./data\"\n",
      "normExt = \".norm\"\n",
      "for file in os.listdir(dirname):\n",
      "    if file.endswith(normExt):\n",
      "        if os.path.splitext(file)[0] != \"sources\":\n",
      "            fileName = os.path.splitext(file)[0]\n",
      "            file = open(dirname+'/'+fileName+normExt, 'r', encoding=\"utf8\")\n",
      "            normFile = file.read()\n",
      "            file.close()\n",
      "            \n",
      "            # print(normFile)\n",
      "            # 2-gram:\n",
      "            num = 2\n",
      "            tempGram = ngram (num, normFile)\n",
      "            df = DataFrame(tempGram)\n",
      "            df.columns = [str(num) + '-gram', 'count']\n",
      "            # print(df)\n",
      "            \n",
      "            gramExt = '.' + str(num) + 'gr'\n",
      "            df.to_csv(dirname+'/'+fileName+gramExt, sep='\\t', encoding='utf-8', header=False, index=False)\n",
      "            \n",
      "            # 3-gram:\n",
      "            num = 3\n",
      "            tempGram = ngram (num, normFile)\n",
      "            df = DataFrame(tempGram)\n",
      "            df.columns = [str(num) + '-gram', 'count']\n",
      "            # print(df)\n",
      "            \n",
      "            gramExt = '.' + str(num) + 'gr'\n",
      "            df.to_csv(dirname+'/'+fileName+gramExt, sep='\\t', encoding='utf-8', header=False, index=False)"
     ],
     "language": "python",
     "metadata": {},
     "outputs": [],
     "prompt_number": 3
    },
    {
     "cell_type": "code",
     "collapsed": false,
     "input": [
      "import os\n",
      "\n",
      "def createNGramFile (n, dir, ext):\n",
      "    for file in os.listdir(dir):\n",
      "        if file.endswith(ext):\n",
      "            if os.path.splitext(file)[0] != \"sources\":\n",
      "                fileName = os.path.splitext(file)[0]\n",
      "                file = open(dir+'/'+fileName+ext, 'r', encoding=\"utf8\")\n",
      "                normFile = file.read()\n",
      "                file.close()\n",
      "                \n",
      "                tempGram = ngram (n, normFile)\n",
      "                df = DataFrame(tempGram)\n",
      "                df.columns = [str(n) + '-gram', 'count']\n",
      "                # print(df)\n",
      "\n",
      "                gramExt = '.' + str(n) + 'gr'\n",
      "                df.to_csv(dirname+'/'+fileName+gramExt, sep='\\t', encoding='utf-8', header=False, index=False)\n",
      "\n",
      "dirName = \"./data\"\n",
      "normExt = \".norm\"\n",
      "num = 2\n",
      "                \n",
      "createNGramFile (num, dirName, normExt)"
     ],
     "language": "python",
     "metadata": {},
     "outputs": [],
     "prompt_number": 5
    },
    {
     "cell_type": "code",
     "collapsed": false,
     "input": [],
     "language": "python",
     "metadata": {},
     "outputs": []
    }
   ],
   "metadata": {}
  }
 ]
}